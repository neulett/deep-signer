{
 "cells": [
  {
   "cell_type": "code",
   "execution_count": 5,
   "metadata": {},
   "outputs": [],
   "source": [
    "import os\n",
    "import numpy as np\n",
    "import pandas as pd\n",
    "import tensorflow as tf\n",
    "from tqdm import tqdm\n",
    "from tensorflow.python.keras.layers import Conv1D, MaxPooling1D, Flatten, Dense, Dropout, LSTM"
   ]
  },
  {
   "cell_type": "code",
   "execution_count": 6,
   "metadata": {},
   "outputs": [
    {
     "data": {
      "text/plain": [
       "(302378,)"
      ]
     },
     "execution_count": 6,
     "metadata": {},
     "output_type": "execute_result"
    }
   ],
   "source": [
    "label = np.load('./preprocessing/keypoints/concatnated_label.npy')\n",
    "label.shape"
   ]
  },
  {
   "cell_type": "code",
   "execution_count": 7,
   "metadata": {},
   "outputs": [
    {
     "name": "stderr",
     "output_type": "stream",
     "text": [
      "100%|██████████| 3000/3000 [00:01<00:00, 2497.20it/s]\n"
     ]
    },
    {
     "data": {
      "text/plain": [
       "(302378, 33, 3)"
      ]
     },
     "execution_count": 7,
     "metadata": {},
     "output_type": "execute_result"
    }
   ],
   "source": [
    "arrays = []\n",
    "\n",
    "path = './preprocessing/keypoints/keypoints_save/'\n",
    "\n",
    "for filename in tqdm(os.listdir(path)):\n",
    "    file_path = os.path.join(path, filename)\n",
    "    array = np.load(file_path)\n",
    "    arrays.append(array)\n",
    "\n",
    "combined_array = np.concatenate(arrays, axis=0)\n",
    "\n",
    "combined_array.shape"
   ]
  },
  {
   "cell_type": "code",
   "execution_count": 8,
   "metadata": {},
   "outputs": [
    {
     "data": {
      "text/plain": [
       "array([ 0,  0,  0, ..., 70, 70, 70], dtype=int64)"
      ]
     },
     "execution_count": 8,
     "metadata": {},
     "output_type": "execute_result"
    }
   ],
   "source": [
    "from sklearn.preprocessing import LabelEncoder\n",
    "\n",
    "le = LabelEncoder()\n",
    "\n",
    "y_data = le.fit_transform(label)\n",
    "y_data"
   ]
  },
  {
   "cell_type": "code",
   "execution_count": 9,
   "metadata": {},
   "outputs": [
    {
     "data": {
      "text/plain": [
       "419"
      ]
     },
     "execution_count": 9,
     "metadata": {},
     "output_type": "execute_result"
    }
   ],
   "source": [
    "unique_values = np.unique(label)\n",
    "len(unique_values)"
   ]
  },
  {
   "cell_type": "code",
   "execution_count": 10,
   "metadata": {},
   "outputs": [
    {
     "name": "stdout",
     "output_type": "stream",
     "text": [
      "(302378, 33, 3)\n",
      "(302378,)\n"
     ]
    }
   ],
   "source": [
    "print(combined_array.shape)\n",
    "print(y_data.shape)"
   ]
  },
  {
   "cell_type": "code",
   "execution_count": 11,
   "metadata": {},
   "outputs": [],
   "source": [
    "from tensorflow.keras.utils import to_categorical\n",
    "\n",
    "y_data = to_categorical(y_data, num_classes=419)"
   ]
  },
  {
   "cell_type": "code",
   "execution_count": 14,
   "metadata": {},
   "outputs": [
    {
     "name": "stdout",
     "output_type": "stream",
     "text": [
      "(241902, 33, 3) (60476, 33, 3)\n",
      "(241902, 419) (60476, 419)\n",
      "33 3\n"
     ]
    }
   ],
   "source": [
    "from sklearn.model_selection import train_test_split\n",
    "\n",
    "x_data = combined_array.astype(np.float32)\n",
    "y_data = y_data.astype(np.float32)\n",
    "\n",
    "x_train, x_test, y_train, y_test = train_test_split(combined_array, y_data, test_size=0.2)\n",
    "\n",
    "print(x_train.shape, x_test.shape)\n",
    "print(y_train.shape, y_test.shape)\n",
    "print(x_train.shape[1], x_train.shape[2])"
   ]
  },
  {
   "cell_type": "code",
   "execution_count": 25,
   "metadata": {},
   "outputs": [
    {
     "name": "stdout",
     "output_type": "stream",
     "text": [
      "Model: \"sequential_4\"\n",
      "_________________________________________________________________\n",
      "Layer (type)                 Output Shape              Param #   \n",
      "=================================================================\n",
      "lstm_9 (LSTM)                (None, 33, 64)            17408     \n",
      "_________________________________________________________________\n",
      "lstm_10 (LSTM)               (None, 33, 128)           98816     \n",
      "_________________________________________________________________\n",
      "lstm_11 (LSTM)               (None, 256)               394240    \n",
      "_________________________________________________________________\n",
      "flatten_4 (Flatten)          (None, 256)               0         \n",
      "_________________________________________________________________\n",
      "dense_8 (Dense)              (None, 128)               32896     \n",
      "_________________________________________________________________\n",
      "dense_9 (Dense)              (None, 419)               54051     \n",
      "=================================================================\n",
      "Total params: 597,411\n",
      "Trainable params: 597,411\n",
      "Non-trainable params: 0\n",
      "_________________________________________________________________\n"
     ]
    }
   ],
   "source": [
    "from tensorflow.keras.models import Sequential\n",
    "from tensorflow.keras.layers import LSTM, Dense, Dropout, Flatten\n",
    "\n",
    "model = Sequential([\n",
    "    LSTM(64, input_shape=(x_train.shape[1], x_train.shape[2]), return_sequences=True),\n",
    "    LSTM(128, return_sequences=True),\n",
    "    LSTM(256, return_sequences=False),\n",
    "    Flatten(),\n",
    "    Dense(128, activation='relu'),\n",
    "    Dense(y_train.shape[1], activation='softmax')\n",
    "])\n",
    "\n",
    "model.compile(optimizer='adam', loss='categorical_crossentropy', metrics=['accuracy'])\n",
    "model.summary()"
   ]
  },
  {
   "cell_type": "code",
   "execution_count": 26,
   "metadata": {},
   "outputs": [
    {
     "name": "stdout",
     "output_type": "stream",
     "text": [
      "Epoch 1/80\n",
      "7560/7560 [==============================] - 106s 14ms/step - loss: 5.4034 - accuracy: 0.0201 - val_loss: 4.9327 - val_accuracy: 0.0460\n",
      "Epoch 2/80\n",
      "7560/7560 [==============================] - 101s 13ms/step - loss: 4.2298 - accuracy: 0.1022 - val_loss: 3.6993 - val_accuracy: 0.1600\n",
      "Epoch 3/80\n",
      "7560/7560 [==============================] - 103s 14ms/step - loss: 3.2747 - accuracy: 0.2235 - val_loss: 2.9043 - val_accuracy: 0.2854\n",
      "Epoch 4/80\n",
      "7560/7560 [==============================] - 103s 14ms/step - loss: 2.7280 - accuracy: 0.3214 - val_loss: 2.6053 - val_accuracy: 0.3448\n",
      "Epoch 5/80\n",
      "7560/7560 [==============================] - 108s 14ms/step - loss: 2.3985 - accuracy: 0.3873 - val_loss: 2.3470 - val_accuracy: 0.4004\n",
      "Epoch 6/80\n",
      "7560/7560 [==============================] - 113s 15ms/step - loss: 2.1631 - accuracy: 0.4371 - val_loss: 2.2797 - val_accuracy: 0.4192\n",
      "Epoch 7/80\n",
      "7560/7560 [==============================] - 114s 15ms/step - loss: 1.9644 - accuracy: 0.4809 - val_loss: 2.0575 - val_accuracy: 0.4663\n",
      "Epoch 8/80\n",
      "7560/7560 [==============================] - 113s 15ms/step - loss: 1.8229 - accuracy: 0.5135 - val_loss: 1.9365 - val_accuracy: 0.4966\n",
      "Epoch 9/80\n",
      "7560/7560 [==============================] - 117s 15ms/step - loss: 1.6910 - accuracy: 0.5441 - val_loss: 1.7543 - val_accuracy: 0.5364\n",
      "Epoch 10/80\n",
      "7560/7560 [==============================] - 114s 15ms/step - loss: 1.5795 - accuracy: 0.5698 - val_loss: 1.6636 - val_accuracy: 0.5582\n",
      "Epoch 11/80\n",
      "7560/7560 [==============================] - 114s 15ms/step - loss: 1.4904 - accuracy: 0.5910 - val_loss: 1.5944 - val_accuracy: 0.5761\n",
      "Epoch 12/80\n",
      "7560/7560 [==============================] - 116s 15ms/step - loss: 1.4095 - accuracy: 0.6103 - val_loss: 1.7158 - val_accuracy: 0.5483\n",
      "Epoch 13/80\n",
      "7560/7560 [==============================] - 113s 15ms/step - loss: 1.3313 - accuracy: 0.6283 - val_loss: 1.5758 - val_accuracy: 0.5839\n",
      "Epoch 14/80\n",
      "7560/7560 [==============================] - 110s 15ms/step - loss: 1.2743 - accuracy: 0.6434 - val_loss: 1.5404 - val_accuracy: 0.5963\n",
      "Epoch 15/80\n",
      "7560/7560 [==============================] - 109s 14ms/step - loss: 1.2161 - accuracy: 0.6574 - val_loss: 1.6013 - val_accuracy: 0.5827\n",
      "Epoch 16/80\n",
      "7560/7560 [==============================] - 111s 15ms/step - loss: 1.1624 - accuracy: 0.6715 - val_loss: 1.4425 - val_accuracy: 0.6214\n",
      "Epoch 17/80\n",
      "7560/7560 [==============================] - 109s 14ms/step - loss: 1.1193 - accuracy: 0.6818 - val_loss: 1.5779 - val_accuracy: 0.5915\n",
      "Epoch 18/80\n",
      "7560/7560 [==============================] - 110s 14ms/step - loss: 1.0762 - accuracy: 0.6928 - val_loss: 1.4209 - val_accuracy: 0.6270\n",
      "Epoch 19/80\n",
      "7560/7560 [==============================] - 101s 13ms/step - loss: 1.0277 - accuracy: 0.7047 - val_loss: 1.3620 - val_accuracy: 0.6450\n",
      "Epoch 20/80\n",
      "7560/7560 [==============================] - 101s 13ms/step - loss: 0.9936 - accuracy: 0.7133 - val_loss: 1.4650 - val_accuracy: 0.6228\n",
      "Epoch 21/80\n",
      "7560/7560 [==============================] - 101s 13ms/step - loss: 0.9619 - accuracy: 0.7222 - val_loss: 1.2682 - val_accuracy: 0.6693\n",
      "Epoch 22/80\n",
      "7560/7560 [==============================] - 102s 13ms/step - loss: 0.9360 - accuracy: 0.7281 - val_loss: 1.2187 - val_accuracy: 0.6839\n",
      "Epoch 23/80\n",
      "7560/7560 [==============================] - 101s 13ms/step - loss: 0.9005 - accuracy: 0.7369 - val_loss: 1.2448 - val_accuracy: 0.6770\n",
      "Epoch 24/80\n",
      "7560/7560 [==============================] - 102s 13ms/step - loss: 0.8807 - accuracy: 0.7435 - val_loss: 1.4161 - val_accuracy: 0.6441\n",
      "Epoch 25/80\n",
      "7560/7560 [==============================] - 101s 13ms/step - loss: 0.8486 - accuracy: 0.7517 - val_loss: 1.2378 - val_accuracy: 0.6779\n",
      "Epoch 26/80\n",
      "7560/7560 [==============================] - 102s 13ms/step - loss: 0.8244 - accuracy: 0.7580 - val_loss: 1.2590 - val_accuracy: 0.6843\n",
      "Epoch 27/80\n",
      "7560/7560 [==============================] - 100s 13ms/step - loss: 0.8013 - accuracy: 0.7639 - val_loss: 1.4880 - val_accuracy: 0.6313\n",
      "Epoch 28/80\n",
      "7560/7560 [==============================] - 102s 13ms/step - loss: 0.7808 - accuracy: 0.7693 - val_loss: 1.1903 - val_accuracy: 0.7000\n",
      "Epoch 29/80\n",
      "7560/7560 [==============================] - 101s 13ms/step - loss: 0.7683 - accuracy: 0.7723 - val_loss: 1.2102 - val_accuracy: 0.6970\n",
      "Epoch 30/80\n",
      "7560/7560 [==============================] - 100s 13ms/step - loss: 0.7473 - accuracy: 0.7787 - val_loss: 1.3332 - val_accuracy: 0.6697\n",
      "Epoch 31/80\n",
      "7560/7560 [==============================] - 102s 13ms/step - loss: 0.7276 - accuracy: 0.7835 - val_loss: 1.1526 - val_accuracy: 0.7086\n",
      "Epoch 32/80\n",
      "7560/7560 [==============================] - 101s 13ms/step - loss: 0.7087 - accuracy: 0.7879 - val_loss: 1.1763 - val_accuracy: 0.7032\n",
      "Epoch 33/80\n",
      "7560/7560 [==============================] - 100s 13ms/step - loss: 0.6894 - accuracy: 0.7932 - val_loss: 1.2776 - val_accuracy: 0.6898\n",
      "Epoch 34/80\n",
      "7560/7560 [==============================] - 101s 13ms/step - loss: 0.6797 - accuracy: 0.7959 - val_loss: 1.1663 - val_accuracy: 0.7134\n",
      "Epoch 35/80\n",
      "7560/7560 [==============================] - 101s 13ms/step - loss: 0.6713 - accuracy: 0.7991 - val_loss: 1.1191 - val_accuracy: 0.7280\n",
      "Epoch 36/80\n",
      "7560/7560 [==============================] - 100s 13ms/step - loss: 0.6573 - accuracy: 0.8022 - val_loss: 1.0777 - val_accuracy: 0.7355\n",
      "Epoch 37/80\n",
      "7560/7560 [==============================] - 100s 13ms/step - loss: 0.6420 - accuracy: 0.8067 - val_loss: 1.2128 - val_accuracy: 0.7068\n",
      "Epoch 38/80\n",
      "7560/7560 [==============================] - 102s 13ms/step - loss: 0.6310 - accuracy: 0.8097 - val_loss: 1.1551 - val_accuracy: 0.7185\n",
      "Epoch 39/80\n",
      "7560/7560 [==============================] - 101s 13ms/step - loss: 0.6204 - accuracy: 0.8129 - val_loss: 1.1394 - val_accuracy: 0.7322\n",
      "Epoch 40/80\n",
      "7560/7560 [==============================] - 99s 13ms/step - loss: 0.6040 - accuracy: 0.8165 - val_loss: 1.3039 - val_accuracy: 0.6961\n",
      "Epoch 41/80\n",
      "7560/7560 [==============================] - 93s 12ms/step - loss: 0.6005 - accuracy: 0.8178 - val_loss: 1.1776 - val_accuracy: 0.7204\n",
      "Epoch 42/80\n",
      "7560/7560 [==============================] - 93s 12ms/step - loss: 0.5869 - accuracy: 0.8217 - val_loss: 1.2324 - val_accuracy: 0.7084\n",
      "Epoch 43/80\n",
      "7560/7560 [==============================] - 93s 12ms/step - loss: 0.5763 - accuracy: 0.8240 - val_loss: 1.1285 - val_accuracy: 0.7371\n",
      "Epoch 44/80\n",
      "7560/7560 [==============================] - 96s 13ms/step - loss: 0.5660 - accuracy: 0.8271 - val_loss: 1.0561 - val_accuracy: 0.7514\n",
      "Epoch 45/80\n",
      "7560/7560 [==============================] - 95s 13ms/step - loss: 0.5574 - accuracy: 0.8294 - val_loss: 1.2783 - val_accuracy: 0.7069\n",
      "Epoch 46/80\n",
      "7560/7560 [==============================] - 96s 13ms/step - loss: 0.5468 - accuracy: 0.8325 - val_loss: 1.1590 - val_accuracy: 0.7302\n",
      "Epoch 47/80\n",
      "7560/7560 [==============================] - 96s 13ms/step - loss: 0.5473 - accuracy: 0.8324 - val_loss: 1.1473 - val_accuracy: 0.7354\n",
      "Epoch 48/80\n",
      "7560/7560 [==============================] - 97s 13ms/step - loss: 0.5325 - accuracy: 0.8363 - val_loss: 1.2826 - val_accuracy: 0.7154\n",
      "Epoch 49/80\n",
      "7560/7560 [==============================] - 96s 13ms/step - loss: 0.5257 - accuracy: 0.8385 - val_loss: 1.0470 - val_accuracy: 0.7600\n",
      "Epoch 50/80\n",
      "7560/7560 [==============================] - 97s 13ms/step - loss: 0.5200 - accuracy: 0.8406 - val_loss: 1.0757 - val_accuracy: 0.7578\n",
      "Epoch 51/80\n",
      "7560/7560 [==============================] - 97s 13ms/step - loss: 0.5093 - accuracy: 0.8433 - val_loss: 1.1553 - val_accuracy: 0.7420\n",
      "Epoch 52/80\n",
      "7560/7560 [==============================] - 97s 13ms/step - loss: 0.5092 - accuracy: 0.8432 - val_loss: 1.0304 - val_accuracy: 0.7686\n",
      "Epoch 53/80\n",
      "7560/7560 [==============================] - 96s 13ms/step - loss: 0.4994 - accuracy: 0.8461 - val_loss: 1.1337 - val_accuracy: 0.7461\n",
      "Epoch 54/80\n",
      "7560/7560 [==============================] - 98s 13ms/step - loss: 0.4917 - accuracy: 0.8482 - val_loss: 1.2583 - val_accuracy: 0.7205\n",
      "Epoch 55/80\n",
      "7560/7560 [==============================] - 97s 13ms/step - loss: 0.4819 - accuracy: 0.8510 - val_loss: 1.1562 - val_accuracy: 0.7478\n",
      "Epoch 56/80\n",
      "7560/7560 [==============================] - 97s 13ms/step - loss: 0.4796 - accuracy: 0.8520 - val_loss: 1.0962 - val_accuracy: 0.7569\n",
      "Epoch 57/80\n",
      "7560/7560 [==============================] - 97s 13ms/step - loss: 0.4680 - accuracy: 0.8553 - val_loss: 1.1080 - val_accuracy: 0.7604\n",
      "Epoch 58/80\n",
      "7560/7560 [==============================] - 97s 13ms/step - loss: 0.4654 - accuracy: 0.8561 - val_loss: 1.1116 - val_accuracy: 0.7562\n",
      "Epoch 59/80\n",
      "7560/7560 [==============================] - 97s 13ms/step - loss: 0.4566 - accuracy: 0.8584 - val_loss: 1.1527 - val_accuracy: 0.7533\n",
      "Epoch 60/80\n",
      "7560/7560 [==============================] - 97s 13ms/step - loss: 0.4493 - accuracy: 0.8605 - val_loss: 1.0829 - val_accuracy: 0.7654\n",
      "Epoch 61/80\n",
      "7560/7560 [==============================] - 98s 13ms/step - loss: 0.4534 - accuracy: 0.8597 - val_loss: 1.1323 - val_accuracy: 0.7605\n",
      "Epoch 62/80\n",
      "7560/7560 [==============================] - 97s 13ms/step - loss: 0.4449 - accuracy: 0.8614 - val_loss: 1.2203 - val_accuracy: 0.7430\n",
      "Epoch 63/80\n",
      "7560/7560 [==============================] - 96s 13ms/step - loss: 0.4395 - accuracy: 0.8635 - val_loss: 1.1386 - val_accuracy: 0.7573\n",
      "Epoch 64/80\n",
      "7560/7560 [==============================] - 96s 13ms/step - loss: 0.4285 - accuracy: 0.8667 - val_loss: 1.0964 - val_accuracy: 0.7699\n",
      "Epoch 65/80\n",
      "7560/7560 [==============================] - 97s 13ms/step - loss: 0.4282 - accuracy: 0.8665 - val_loss: 1.0500 - val_accuracy: 0.7786\n",
      "Epoch 66/80\n",
      "7560/7560 [==============================] - 100s 13ms/step - loss: 0.4216 - accuracy: 0.8678 - val_loss: 1.1560 - val_accuracy: 0.7595\n",
      "Epoch 67/80\n",
      "7560/7560 [==============================] - 97s 13ms/step - loss: 0.4163 - accuracy: 0.8703 - val_loss: 1.1140 - val_accuracy: 0.7712\n",
      "Epoch 68/80\n",
      "7560/7560 [==============================] - 97s 13ms/step - loss: 0.4133 - accuracy: 0.8702 - val_loss: 1.1266 - val_accuracy: 0.7657\n",
      "Epoch 69/80\n",
      "7560/7560 [==============================] - 97s 13ms/step - loss: 0.4101 - accuracy: 0.8714 - val_loss: 1.0966 - val_accuracy: 0.7757\n",
      "Epoch 70/80\n",
      "7560/7560 [==============================] - 97s 13ms/step - loss: 0.4092 - accuracy: 0.8728 - val_loss: 1.2136 - val_accuracy: 0.7462\n",
      "Epoch 71/80\n",
      "7560/7560 [==============================] - 96s 13ms/step - loss: 0.4019 - accuracy: 0.8743 - val_loss: 1.1280 - val_accuracy: 0.7678\n",
      "Epoch 72/80\n",
      "7560/7560 [==============================] - 97s 13ms/step - loss: 0.3980 - accuracy: 0.8745 - val_loss: 1.1504 - val_accuracy: 0.7672\n",
      "Epoch 73/80\n",
      "7560/7560 [==============================] - 96s 13ms/step - loss: 0.3917 - accuracy: 0.8775 - val_loss: 1.1242 - val_accuracy: 0.7731\n",
      "Epoch 74/80\n",
      "7560/7560 [==============================] - 94s 12ms/step - loss: 0.3878 - accuracy: 0.8778 - val_loss: 1.1290 - val_accuracy: 0.7716\n",
      "Epoch 75/80\n",
      "7560/7560 [==============================] - 93s 12ms/step - loss: 0.3858 - accuracy: 0.8789 - val_loss: 1.1464 - val_accuracy: 0.7724\n",
      "Epoch 76/80\n",
      "7560/7560 [==============================] - 94s 12ms/step - loss: 0.3834 - accuracy: 0.8800 - val_loss: 1.4463 - val_accuracy: 0.7156\n",
      "Epoch 77/80\n",
      "7560/7560 [==============================] - 94s 12ms/step - loss: 0.3797 - accuracy: 0.8806 - val_loss: 1.2326 - val_accuracy: 0.7505\n",
      "Epoch 78/80\n",
      "7560/7560 [==============================] - 93s 12ms/step - loss: 0.3767 - accuracy: 0.8822 - val_loss: 1.2066 - val_accuracy: 0.7640\n",
      "Epoch 79/80\n",
      "7560/7560 [==============================] - 92s 12ms/step - loss: 0.3768 - accuracy: 0.8815 - val_loss: 1.3917 - val_accuracy: 0.7284\n",
      "Epoch 80/80\n",
      "7560/7560 [==============================] - 93s 12ms/step - loss: 0.3709 - accuracy: 0.8839 - val_loss: 1.1849 - val_accuracy: 0.7727\n"
     ]
    }
   ],
   "source": [
    "# from keras.callbacks import EarlyStopping\n",
    "# early_stopping = EarlyStopping()\n",
    "\n",
    "# EarlyStopping(monitor = 'val_loss', min_delta = 0, patience = 0, mode = 'auto')\n",
    "hist = model.fit(\n",
    "    x_train, y_train, validation_data=(x_test, y_test), epochs=80\n",
    ")"
   ]
  },
  {
   "cell_type": "code",
   "execution_count": 1,
   "metadata": {},
   "outputs": [
    {
     "ename": "NameError",
     "evalue": "name 'hist' is not defined",
     "output_type": "error",
     "traceback": [
      "\u001b[1;31m---------------------------------------------------------------------------\u001b[0m",
      "\u001b[1;31mNameError\u001b[0m                                 Traceback (most recent call last)",
      "\u001b[1;32m~\\AppData\\Local\\Temp\\ipykernel_13336\\3015319970.py\u001b[0m in \u001b[0;36m<module>\u001b[1;34m\u001b[0m\n\u001b[0;32m      4\u001b[0m \u001b[1;33m\u001b[0m\u001b[0m\n\u001b[0;32m      5\u001b[0m \u001b[0mplt\u001b[0m\u001b[1;33m.\u001b[0m\u001b[0msubplot\u001b[0m\u001b[1;33m(\u001b[0m\u001b[1;36m1\u001b[0m\u001b[1;33m,\u001b[0m \u001b[1;36m2\u001b[0m\u001b[1;33m,\u001b[0m \u001b[1;36m1\u001b[0m\u001b[1;33m)\u001b[0m\u001b[1;33m\u001b[0m\u001b[1;33m\u001b[0m\u001b[0m\n\u001b[1;32m----> 6\u001b[1;33m \u001b[0mplt\u001b[0m\u001b[1;33m.\u001b[0m\u001b[0mplot\u001b[0m\u001b[1;33m(\u001b[0m\u001b[0mhist\u001b[0m\u001b[1;33m.\u001b[0m\u001b[0mhistory\u001b[0m\u001b[1;33m[\u001b[0m\u001b[1;34m'accuracy'\u001b[0m\u001b[1;33m]\u001b[0m\u001b[1;33m)\u001b[0m\u001b[1;33m\u001b[0m\u001b[1;33m\u001b[0m\u001b[0m\n\u001b[0m\u001b[0;32m      7\u001b[0m \u001b[0mplt\u001b[0m\u001b[1;33m.\u001b[0m\u001b[0mplot\u001b[0m\u001b[1;33m(\u001b[0m\u001b[0mhist\u001b[0m\u001b[1;33m.\u001b[0m\u001b[0mhistory\u001b[0m\u001b[1;33m[\u001b[0m\u001b[1;34m'val_accuracy'\u001b[0m\u001b[1;33m]\u001b[0m\u001b[1;33m)\u001b[0m\u001b[1;33m\u001b[0m\u001b[1;33m\u001b[0m\u001b[0m\n\u001b[0;32m      8\u001b[0m \u001b[0mplt\u001b[0m\u001b[1;33m.\u001b[0m\u001b[0mtitle\u001b[0m\u001b[1;33m(\u001b[0m\u001b[1;34m'Model Accuracy'\u001b[0m\u001b[1;33m)\u001b[0m\u001b[1;33m\u001b[0m\u001b[1;33m\u001b[0m\u001b[0m\n",
      "\u001b[1;31mNameError\u001b[0m: name 'hist' is not defined"
     ]
    },
    {
     "data": {
      "image/png": "[encoded data removed]",
      "text/plain": [
       "<Figure size 1000x500 with 1 Axes>"
      ]
     },
     "metadata": {},
     "output_type": "display_data"
    }
   ],
   "source": [
    "import matplotlib.pyplot as plt\n",
    "\n",
    "plt.figure(figsize=(10, 5))\n",
    "\n",
    "plt.subplot(1, 2, 1)\n",
    "plt.plot(hist.history['accuracy'])\n",
    "plt.plot(hist.history['val_accuracy'])\n",
    "plt.title('Model Accuracy')\n",
    "plt.ylabel('Accuracy')\n",
    "plt.xlabel('Epoch')\n",
    "plt.legend(['Train', 'Validation'], loc='upper left')\n",
    "\n",
    "plt.subplot(1, 2, 2)\n",
    "plt.plot(hist.history['loss'])\n",
    "plt.plot(hist.history['val_loss'])\n",
    "plt.title('Model Loss')\n",
    "plt.ylabel('Loss')\n",
    "plt.xlabel('Epoch')\n",
    "plt.legend(['Train', 'Validation'], loc='upper left')\n",
    "\n",
    "plt.tight_layout()\n",
    "plt.show()"
   ]
  },
  {
   "cell_type": "code",
   "execution_count": 54,
   "metadata": {},
   "outputs": [
    {
     "ename": "AttributeError",
     "evalue": "module 'h5py' has no attribute 'File'",
     "output_type": "error",
     "traceback": [
      "\u001b[1;31m---------------------------------------------------------------------------\u001b[0m",
      "\u001b[1;31mAttributeError\u001b[0m                            Traceback (most recent call last)",
      "\u001b[1;32m~\\AppData\\Local\\Temp\\ipykernel_28180\\3692831719.py\u001b[0m in \u001b[0;36m<module>\u001b[1;34m\u001b[0m\n\u001b[1;32m----> 1\u001b[1;33m \u001b[0mmodel\u001b[0m\u001b[1;33m.\u001b[0m\u001b[0msave\u001b[0m\u001b[1;33m(\u001b[0m\u001b[1;34m'./model/model_1'\u001b[0m\u001b[1;33m)\u001b[0m\u001b[1;33m\u001b[0m\u001b[1;33m\u001b[0m\u001b[0m\n\u001b[0m",
      "\u001b[1;32mc:\\Users\\PCS\\anaconda3\\envs\\cuda\\lib\\site-packages\\keras\\engine\\training.py\u001b[0m in \u001b[0;36msave\u001b[1;34m(self, filepath, overwrite, include_optimizer, save_format, signatures, options, save_traces)\u001b[0m\n\u001b[0;32m   2144\u001b[0m     \u001b[1;31m# pylint: enable=line-too-long\u001b[0m\u001b[1;33m\u001b[0m\u001b[1;33m\u001b[0m\u001b[1;33m\u001b[0m\u001b[0m\n\u001b[0;32m   2145\u001b[0m     save.save_model(self, filepath, overwrite, include_optimizer, save_format,\n\u001b[1;32m-> 2146\u001b[1;33m                     signatures, options, save_traces)\n\u001b[0m\u001b[0;32m   2147\u001b[0m \u001b[1;33m\u001b[0m\u001b[0m\n\u001b[0;32m   2148\u001b[0m   def save_weights(self,\n",
      "\u001b[1;32mc:\\Users\\PCS\\anaconda3\\envs\\cuda\\lib\\site-packages\\keras\\saving\\save.py\u001b[0m in \u001b[0;36msave_model\u001b[1;34m(model, filepath, overwrite, include_optimizer, save_format, signatures, options, save_traces)\u001b[0m\n\u001b[0;32m    131\u001b[0m \u001b[1;33m\u001b[0m\u001b[0m\n\u001b[0;32m    132\u001b[0m   if (save_format == 'h5' or\n\u001b[1;32m--> 133\u001b[1;33m       \u001b[1;33m(\u001b[0m\u001b[0mh5py\u001b[0m \u001b[1;32mis\u001b[0m \u001b[1;32mnot\u001b[0m \u001b[1;32mNone\u001b[0m \u001b[1;32mand\u001b[0m \u001b[0misinstance\u001b[0m\u001b[1;33m(\u001b[0m\u001b[0mfilepath\u001b[0m\u001b[1;33m,\u001b[0m \u001b[0mh5py\u001b[0m\u001b[1;33m.\u001b[0m\u001b[0mFile\u001b[0m\u001b[1;33m)\u001b[0m\u001b[1;33m)\u001b[0m \u001b[1;32mor\u001b[0m\u001b[1;33m\u001b[0m\u001b[1;33m\u001b[0m\u001b[0m\n\u001b[0m\u001b[0;32m    134\u001b[0m       saving_utils.is_hdf5_filepath(filepath)):\n\u001b[0;32m    135\u001b[0m     \u001b[1;31m# TODO(b/130258301): add utility method for detecting model type.\u001b[0m\u001b[1;33m\u001b[0m\u001b[1;33m\u001b[0m\u001b[1;33m\u001b[0m\u001b[0m\n",
      "\u001b[1;31mAttributeError\u001b[0m: module 'h5py' has no attribute 'File'"
     ]
    }
   ],
   "source": [
    "model.save('./model/model_1')"
   ]
  }
 ],
 "metadata": {
  "kernelspec": {
   "display_name": "base",
   "language": "python",
   "name": "python3"
  },
  "language_info": {
   "codemirror_mode": {
    "name": "ipython",
    "version": 3
   },
   "file_extension": ".py",
   "mimetype": "text/x-python",
   "name": "python",
   "nbconvert_exporter": "python",
   "pygments_lexer": "ipython3",
   "version": "3.7.16"
  },
  "orig_nbformat": 4
 },
 "nbformat": 4,
 "nbformat_minor": 2
}
