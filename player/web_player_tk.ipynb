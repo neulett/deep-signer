{
 "cells": [
  {
   "cell_type": "code",
   "execution_count": 7,
   "metadata": {},
   "outputs": [],
   "source": [
    "import webview\n",
    "import webbrowser\n",
    "from tkinter import *"
   ]
  },
  {
   "cell_type": "code",
   "execution_count": 6,
   "metadata": {},
   "outputs": [],
   "source": [
    "# if __name__ == '__main__':\n",
    "\n",
    "#     window = webview.create_window(\"title\", \"https://tiny.vision/demos/Tiny3D/Wasm/Tiny3D.html\", width=400, height=300\n",
    "#                                    , x=3200, y=900, frameless=False, background_color='#000000')\n",
    "#     webview.start()"
   ]
  },
  {
   "cell_type": "code",
   "execution_count": 10,
   "metadata": {},
   "outputs": [],
   "source": [
    "# from tkinterweb import HtmlFrame\n",
    "# import tkinter as tk\n",
    "\n",
    "# root = tk.Tk() #create the tkinter window\n",
    "# frame = HtmlFrame(root) #create HTML browser\n",
    "\n",
    "# frame.load_website(\"http://tkhtml.tcl.tk/tkhtml.html\") #load a website\n",
    "# frame.pack(fill=\"both\", expand=True) #attach the HtmlFrame widget to the parent window\n",
    "# root.mainloop()"
   ]
  },
  {
   "cell_type": "code",
   "execution_count": 14,
   "metadata": {},
   "outputs": [
    {
     "ename": "AttributeError",
     "evalue": "module 'webview' has no attribute 'create_webview'",
     "output_type": "error",
     "traceback": [
      "\u001b[1;31m---------------------------------------------------------------------------\u001b[0m",
      "\u001b[1;31mAttributeError\u001b[0m                            Traceback (most recent call last)",
      "Cell \u001b[1;32mIn[14], line 21\u001b[0m\n\u001b[0;32m     17\u001b[0m     root\u001b[39m.\u001b[39mmainloop()\n\u001b[0;32m     19\u001b[0m \u001b[39mif\u001b[39;00m \u001b[39m__name__\u001b[39m \u001b[39m==\u001b[39m \u001b[39m\"\u001b[39m\u001b[39m__main__\u001b[39m\u001b[39m\"\u001b[39m:\n\u001b[0;32m     20\u001b[0m     \u001b[39m# Tkinter 창과 웹 뷰를 실행\u001b[39;00m\n\u001b[1;32m---> 21\u001b[0m     create_tkinter_window()\n",
      "Cell \u001b[1;32mIn[14], line 14\u001b[0m, in \u001b[0;36mcreate_tkinter_window\u001b[1;34m()\u001b[0m\n\u001b[0;32m     11\u001b[0m web_frame\u001b[39m.\u001b[39mpack(fill\u001b[39m=\u001b[39mtk\u001b[39m.\u001b[39mBOTH, expand\u001b[39m=\u001b[39m\u001b[39mTrue\u001b[39;00m)\n\u001b[0;32m     13\u001b[0m \u001b[39m# iframe 내에서 웹 뷰를 표시할 웹 뷰 생성\u001b[39;00m\n\u001b[1;32m---> 14\u001b[0m webview\u001b[39m.\u001b[39;49mcreate_webview(web_frame, url\u001b[39m=\u001b[39m\u001b[39m\"\u001b[39m\u001b[39mhttps://www.example.com\u001b[39m\u001b[39m\"\u001b[39m)\n\u001b[0;32m     16\u001b[0m \u001b[39m# Tkinter 창 루프 시작\u001b[39;00m\n\u001b[0;32m     17\u001b[0m root\u001b[39m.\u001b[39mmainloop()\n",
      "\u001b[1;31mAttributeError\u001b[0m: module 'webview' has no attribute 'create_webview'"
     ]
    }
   ],
   "source": [
    "import tkinter as tk\n",
    "import webview\n",
    "\n",
    "def create_tkinter_window():\n",
    "\n",
    "    root = tk.Tk()\n",
    "    root.title(\"Tkinter App\")\n",
    "    \n",
    "    web_frame = tk.Frame(root)\n",
    "    web_frame.pack(fill=tk.BOTH, expand=True)\n",
    "\n",
    "    webview.create_webview(web_frame, url=\"https://www.example.com\")\n",
    "    root.mainloop()\n",
    "\n",
    "if __name__ == \"__main__\":\n",
    "    create_tkinter_window()"
   ]
  },
  {
   "cell_type": "code",
   "execution_count": null,
   "metadata": {},
   "outputs": [],
   "source": []
  }
 ],
 "metadata": {
  "kernelspec": {
   "display_name": "base",
   "language": "python",
   "name": "python3"
  },
  "language_info": {
   "codemirror_mode": {
    "name": "ipython",
    "version": 3
   },
   "file_extension": ".py",
   "mimetype": "text/x-python",
   "name": "python",
   "nbconvert_exporter": "python",
   "pygments_lexer": "ipython3",
   "version": "3.10.9"
  },
  "orig_nbformat": 4
 },
 "nbformat": 4,
 "nbformat_minor": 2
}
