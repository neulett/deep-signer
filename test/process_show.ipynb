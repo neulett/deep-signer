{
 "cells": [
  {
   "cell_type": "code",
   "execution_count": 1,
   "metadata": {},
   "outputs": [],
   "source": [
    "import tkinter as tk\n",
    "import psutil\n",
    "\n",
    "def show_processes():\n",
    "    processes = psutil.process_iter(['pid', 'name', 'memory_info'])\n",
    "\n",
    "    for process in processes:\n",
    "        pid = process.info['pid']\n",
    "        name = process.info['name']\n",
    "        memory_info = process.info['memory_info']\n",
    "        \n",
    "        process_listbox.insert(tk.END, f\"Name: {name}\")\n",
    "\n",
    "window = tk.Tk()\n",
    "window.title(\"Process Monitor\")\n",
    "\n",
    "process_listbox = tk.Listbox(window)\n",
    "process_listbox.pack()\n",
    "\n",
    "show_processes_button = tk.Button(window, text=\"Show Processes\", command=show_processes)\n",
    "show_processes_button.pack()\n",
    "\n",
    "window.mainloop()"
   ]
  },
  {
   "cell_type": "code",
   "execution_count": null,
   "metadata": {},
   "outputs": [],
   "source": [
    "class Process:\n",
    "    def __init__(self):\n",
    "        process_list = []\n",
    "        self.get_process_info()\n",
    "\n",
    "    def get_process_info(self):\n",
    "        processes = psutil.process_iter(['pid', 'name'])\n",
    "        for process in processes:\n",
    "            pid = process.info['pid']\n",
    "            name = process.info['name']\n",
    "            self.process_list.append((pid, name))\n",
    "\n",
    "    def btn_generator(self, target_frame, pid, process_name):\n",
    "        btn = tk.Button(target_frame, relief='flat', text=f\"{process_name}\")\n",
    "        return target_frame\n",
    "    \n",
    "    # def process_selector(self, name):"
   ]
  }
 ],
 "metadata": {
  "kernelspec": {
   "display_name": "base",
   "language": "python",
   "name": "python3"
  },
  "language_info": {
   "codemirror_mode": {
    "name": "ipython",
    "version": 3
   },
   "file_extension": ".py",
   "mimetype": "text/x-python",
   "name": "python",
   "nbconvert_exporter": "python",
   "pygments_lexer": "ipython3",
   "version": "3.10.9"
  },
  "orig_nbformat": 4
 },
 "nbformat": 4,
 "nbformat_minor": 2
}
