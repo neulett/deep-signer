{
 "cells": [
  {
   "cell_type": "code",
   "execution_count": 16,
   "metadata": {},
   "outputs": [],
   "source": [
    "import cv2\n",
    "import numpy as np\n",
    "import mediapipe as mp"
   ]
  },
  {
   "cell_type": "code",
   "execution_count": 18,
   "metadata": {},
   "outputs": [],
   "source": [
    "mp_pose = mp.solutions.pose\n",
    "cap = cv2.VideoCapture('../KETI_SL_0000000001.avi')\n",
    "    \n",
    "with mp_pose.Pose(min_detection_confidence=0.5, min_tracking_confidence=0.5) as pose:\n",
    "    keypoints_list = []\n",
    "    while True:\n",
    "            opened, image = cap.read()\n",
    "            if not opened:\n",
    "                break\n",
    "            results = pose.process(image)\n",
    "            if results.pose_landmarks:\n",
    "                    pose_landmarks = results.pose_landmarks\n",
    "                    skeleton_keypoints = []\n",
    "                    for landmark in pose_landmarks.landmark:\n",
    "                        skeleton_keypoints.append([landmark.x, landmark.y, landmark.z])\n",
    "                    keypoints_list.append(skeleton_keypoints)\n",
    "\n",
    "            skeleton_keypoints = np.array(keypoints_list)\n",
    "            np.save(f'./key2.npy', skeleton_keypoints)\n",
    "\n",
    "    cap.release()"
   ]
  },
  {
   "cell_type": "code",
   "execution_count": null,
   "metadata": {},
   "outputs": [],
   "source": []
  }
 ],
 "metadata": {
  "kernelspec": {
   "display_name": "cuda",
   "language": "python",
   "name": "python3"
  },
  "language_info": {
   "codemirror_mode": {
    "name": "ipython",
    "version": 3
   },
   "file_extension": ".py",
   "mimetype": "text/x-python",
   "name": "python",
   "nbconvert_exporter": "python",
   "pygments_lexer": "ipython3",
   "version": "3.10.9"
  },
  "orig_nbformat": 4
 },
 "nbformat": 4,
 "nbformat_minor": 2
}
