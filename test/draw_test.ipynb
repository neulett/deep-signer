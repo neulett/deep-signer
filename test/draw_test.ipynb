{
 "cells": [
  {
   "cell_type": "code",
   "execution_count": 1,
   "metadata": {},
   "outputs": [],
   "source": [
    "import cv2\n",
    "import numpy as np"
   ]
  },
  {
   "cell_type": "code",
   "execution_count": 2,
   "metadata": {},
   "outputs": [],
   "source": [
    "def draw_keypoints_from_npy(npy_path):\n",
    "    frames = np.load(npy_path)\n",
    "    for frame in frames:\n",
    "        image = np.zeros((480, 640, 3), dtype=np.uint8)\n",
    "        for landmark in frame:\n",
    "            x, y, _, visibility = landmark\n",
    "            if visibility > 0.5:\n",
    "                cv2.circle(image, (int(x * image.shape[1]), int(y * image.shape[0])),\n",
    "                           3, (0, 255, 0), thickness=-1)\n",
    "        cv2.imshow('Key Points', image)\n",
    "        if cv2.waitKey(30) & 0xFF == ord('q'):\n",
    "            break\n",
    "\n",
    "    cv2.destroyAllWindows()"
   ]
  },
  {
   "cell_type": "code",
   "execution_count": 3,
   "metadata": {},
   "outputs": [],
   "source": [
    "draw_keypoints_from_npy('./KETI_SL_0000000001.npy')"
   ]
  }
 ],
 "metadata": {
  "kernelspec": {
   "display_name": "base",
   "language": "python",
   "name": "python3"
  },
  "language_info": {
   "codemirror_mode": {
    "name": "ipython",
    "version": 3
   },
   "file_extension": ".py",
   "mimetype": "text/x-python",
   "name": "python",
   "nbconvert_exporter": "python",
   "pygments_lexer": "ipython3",
   "version": "3.10.9"
  },
  "orig_nbformat": 4
 },
 "nbformat": 4,
 "nbformat_minor": 2
}
